{
  "nbformat": 4,
  "nbformat_minor": 0,
  "metadata": {
    "colab": {
      "name": "Python_2_숫자와 불리언 연산",
      "version": "0.3.2",
      "provenance": [],
      "collapsed_sections": [],
      "include_colab_link": true
    }
  },
  "cells": [
    {
      "cell_type": "markdown",
      "metadata": {
        "id": "view-in-github",
        "colab_type": "text"
      },
      "source": [
        "[View in Colaboratory](https://colab.research.google.com/github/Kor-KTW/TWSTUDY/blob/master/Python_2_%EC%88%AB%EC%9E%90%EC%99%80_%EB%B6%88%EB%A6%AC%EC%96%B8_%EC%97%B0%EC%82%B0.ipynb)"
      ]
    },
    {
      "metadata": {
        "id": "yx5JgvMvRj_Q",
        "colab_type": "code",
        "colab": {
          "base_uri": "https://localhost:8080/",
          "height": 89
        },
        "outputId": "fbc9694e-dc21-4a3c-b595-7a9b6d533dea"
      },
      "cell_type": "code",
      "source": [
        "# 숫자와 불리언 연산\n",
        "#1 문자열을 숫자로 바꾸고 더한 결과값의 형의 확인\n",
        "int_string = '3'\n",
        "float_string='5'\n",
        "x=int(int_string)+float(float_string) #int+float=float \n",
        "print(type(x))\n",
        "x=int(int_string)+int(float_string) #int+int=float \n",
        "print(type(x))\n",
        "print(x)\n",
        "#2 불리언 연산 (논리 연산)\n",
        "\n",
        "ok=True\n",
        "no=False\n",
        "\n",
        "print(ok and no or not no)\n"
      ],
      "execution_count": 2,
      "outputs": [
        {
          "output_type": "stream",
          "text": [
            "<type 'float'>\n",
            "<type 'int'>\n",
            "8\n",
            "True\n"
          ],
          "name": "stdout"
        }
      ]
    }
  ]
}